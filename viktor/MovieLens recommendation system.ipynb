{
 "cells": [
  {
   "cell_type": "markdown",
   "metadata": {},
   "source": [
    "# Recommendation System \n",
    "Trying out the process of creating a recommendation system using the [Movielens dataset](https://grouplens.org/datasets/movielens/)\n",
    "## Good resources\n",
    " - [Introduction to recommender system (Part 1)](https://hackernoon.com/introduction-to-recommender-system-part-1-collaborative-filtering-singular-value-decomposition-44c9659c5e75)\n",
    " - [Recommender system in keras](https://nipunbatra.github.io/blog/2017/recommend-keras.html)\n",
    "\n",
    "(The implementation in this notebook is almost identical to that of the second link.) Every movie and user can be assigned a vector which should describe their characterisits in such a way that when multiplied results in the users rating for that movie. These two embeddings could also be concatenated to form the input to a network which also could be used to predict the rating for this particular user-movie pair. "
   ]
  },
  {
   "cell_type": "code",
   "execution_count": 43,
   "metadata": {},
   "outputs": [],
   "source": [
    "import csv\n",
    "import numpy as np\n",
    "\n",
    "from math import floor, sqrt\n",
    "from collections import defaultdict\n",
    "\n",
    "from sklearn.model_selection import train_test_split\n",
    "from sklearn.preprocessing import MultiLabelBinarizer\n",
    "\n",
    "import keras\n",
    "from keras.regularizers import l2\n",
    "from keras.models import Model\n",
    "from keras.callbacks import EarlyStopping\n",
    "from keras.layers import Input, Embedding, Activation, Flatten, Lambda, Concatenate, Dense, Dropout, BatchNormalization\n",
    "from keras.optimizers import Adam"
   ]
  },
  {
   "cell_type": "markdown",
   "metadata": {},
   "source": [
    "## Preparing the data\n",
    "We have to clean the data a bit since the user and movie id's have to be in a contiguous order for the Keras Embedding layer to work propperly. We also want to make use of the movie tags when training the model, requering us to somehow turn these into vectors. \n",
    "\n",
    "One idea is to also create a embedding for each tag and combine these in an average fashion."
   ]
  },
  {
   "cell_type": "code",
   "execution_count": 2,
   "metadata": {},
   "outputs": [
    {
     "name": "stdout",
     "output_type": "stream",
     "text": [
      "['(no genres listed)' 'Action' 'Adventure' 'Animation' 'Children' 'Comedy'\n",
      " 'Crime' 'Documentary' 'Drama' 'Fantasy' 'Film-Noir' 'Horror' 'IMAX'\n",
      " 'Musical' 'Mystery' 'Romance' 'Sci-Fi' 'Thriller' 'War' 'Western']\n"
     ]
    },
    {
     "name": "stderr",
     "output_type": "stream",
     "text": [
      "/Users/Viktor/miniconda3/envs/fml/lib/python3.6/site-packages/sklearn/preprocessing/label.py:935: UserWarning: unknown class(es) [0, 1] will be ignored\n",
      "  .format(sorted(unknown, key=str)))\n"
     ]
    }
   ],
   "source": [
    "# user, movie, rating, time\n",
    "ratings = np.genfromtxt('ml-latest-small/ratings.csv', delimiter=',', skip_header=1)\n",
    "\n",
    "#id, title, tags\n",
    "with open('ml-latest-small/movies.csv', 'r') as f:\n",
    "    reader = csv.reader(f)\n",
    "    movie_header = next(reader)\n",
    "    mid2cmid = {} #movie id to contiguous id\n",
    "    mid2tags = {} #contigious movie id to tag\n",
    "    tags = []\n",
    "    for i, row in enumerate(reader):\n",
    "        mid2cmid[int(row[0])] = i #mapping movie id to contigious integers\n",
    "        mid2tags[i] = row[2].split('|')\n",
    "        tags.append(mid2tags[i])\n",
    "    #end for\n",
    "#end with\n",
    "\n",
    "mlb = MultiLabelBinarizer().fit(tags)\n",
    "print(mlb.classes_)\n",
    "\n",
    "uid2cuid = {} #user id to contiguous user id\n",
    "users = set(ratings[:,0])\n",
    "for i, u in enumerate(users):\n",
    "    uid2cuid[u] = i\n",
    "\n",
    "\n",
    "#Update the rating matrix\n",
    "mlb_tags = np.zeros((len(ratings), len(mlb.classes_)))\n",
    "for i, row in enumerate(ratings):\n",
    "    ratings[i][0] = uid2cuid[row[0]] #swapping user id to its contiguous value\n",
    "    ratings[i][1] = mid2cmid[int(row[1])] #swappings movi id to its contiuous value\n",
    "    mlb_tags[i,:] = mlb.transform(mlb.transform([mid2tags[ratings[i][1]]])) #Getting the tag vector for each movie\n"
   ]
  },
  {
   "cell_type": "code",
   "execution_count": 3,
   "metadata": {},
   "outputs": [],
   "source": [
    "n_users = 610 \n",
    "n_movies = 9742\n",
    "assert(len(users) == n_users)\n",
    "assert(len(mid2cmid) == n_movies)"
   ]
  },
  {
   "cell_type": "markdown",
   "metadata": {},
   "source": [
    "Test-train split the data"
   ]
  },
  {
   "cell_type": "code",
   "execution_count": 4,
   "metadata": {},
   "outputs": [
    {
     "name": "stderr",
     "output_type": "stream",
     "text": [
      "/Users/Viktor/miniconda3/envs/fml/lib/python3.6/site-packages/sklearn/model_selection/_split.py:2179: FutureWarning: From version 0.21, test_size will always complement train_size unless both are specified.\n",
      "  FutureWarning)\n"
     ]
    }
   ],
   "source": [
    "train_ratings_matrix, test_ratings_matrix, train_tags, test_tags= train_test_split(ratings, mlb_tags, train_size=0.8)"
   ]
  },
  {
   "cell_type": "code",
   "execution_count": 5,
   "metadata": {},
   "outputs": [],
   "source": [
    "train_user, test_user = train_ratings_matrix[:,0], test_ratings_matrix[:,0]\n",
    "train_movie, test_movie = train_ratings_matrix[:,1], test_ratings_matrix[:,1]\n",
    "train_rating, test_rating = train_ratings_matrix[:,2], test_ratings_matrix[:,2]"
   ]
  },
  {
   "cell_type": "code",
   "execution_count": 6,
   "metadata": {},
   "outputs": [],
   "source": [
    "min_rateing = np.min(ratings[:,2])\n",
    "max_rateing = np.max(ratings[:,2])\n",
    "n_tags = len(mlb.classes_)"
   ]
  },
  {
   "cell_type": "markdown",
   "metadata": {},
   "source": [
    "# Functions for creating models"
   ]
  },
  {
   "cell_type": "code",
   "execution_count": 48,
   "metadata": {},
   "outputs": [],
   "source": [
    "def gen_dot_model(common_emb_sz=10, dropout=0.1):\n",
    "    movie_imp = Input(shape=(1,), name='movie_input')\n",
    "    movie_emb = Embedding(n_movies, common_emb_sz, name='movie_embedding')(movie_imp)\n",
    "    \n",
    "    user_imp = Input(shape=(1,), name='user_input')\n",
    "    user_emb = Embedding(n_users, common_emb_sz, name='user_embedding')(user_imp)\n",
    "    \n",
    "    movie_do = Dropout(dropout)(movie_emb)\n",
    "    user_do = Dropout(dropout)(user_emb)\n",
    "    \n",
    "    dot = Flatten()(keras.layers.dot([movie_do, user_do], axes=2, name='dot'))\n",
    "    \n",
    "    act = Activation('sigmoid', name='activation')(dot)\n",
    "    out = Lambda(lambda x: min_rateing + (max_rateing - min_rateing)*x)(act)\n",
    "\n",
    "    model = Model(inputs=[movie_imp, user_imp], outputs=[out])\n",
    "    model.compile(loss = 'mean_squared_error', optimizer = Adam(lr=0.001), metrics = ['mse'])\n",
    "    model.summary()\n",
    "    return model\n",
    "#end def\n",
    "\n",
    "def gen_net_model(movie_emb_sz = 10, user_emb_sz = 10, dropout=0.1):\n",
    "    movie_imp = Input(shape=(1,), name='movie_input')\n",
    "    movie_emb = Embedding(n_movies, movie_emb_sz, name='movie_embedding')(movie_imp)\n",
    "    movie_emb = Flatten()(movie_emb)\n",
    "    \n",
    "    user_imp = Input(shape=(1,), name='user_input')\n",
    "    user_emb = Embedding(n_users, user_emb_sz, name='user_embedding')(user_imp)\n",
    "    user_emb = Flatten()(user_emb)\n",
    "    \n",
    "    concat = Concatenate(axis=1, name='concat')([movie_emb, user_emb])\n",
    "    \n",
    "    dense1 = Dense(floor(2/3*(movie_emb_sz + user_emb_sz)), activation='tanh')(concat)\n",
    "    d1_do = Dropout(dropout)(dense1)\n",
    "    \n",
    "    dense2 = Dense(floor(1/5*(movie_emb_sz + user_emb_sz)), activation='tanh')(d1_do)\n",
    "    d2_do = Dropout(dropout)(dense2)\n",
    "    \n",
    "    dense3 = Dense(1, activation='sigmoid', kernel_regularizer=l2)(d2_do)    \n",
    "    out = Lambda(lambda x: min_rateing + (max_rateing - min_rateing)*x)(dense3)\n",
    "\n",
    "    model = Model(inputs=[movie_imp, user_imp], outputs=[out])\n",
    "    model.compile(loss = 'mean_squared_error', optimizer = Adam(lr=0.001), metrics = ['mse'])\n",
    "    model.summary()\n",
    "    return model\n",
    "#end def\n",
    "\n",
    "def gen_net_model_with_tags(movie_emb_sz=10, user_emb_sz=10, tag_emb_sz=10, dropout=0.1):\n",
    "    movie_imp = Input(shape=(1,), name='movie_input')\n",
    "    movie_emb = Embedding(n_movies, movie_emb_sz, name='movie_embedding')(movie_imp)\n",
    "    movie_emb = Flatten()(movie_emb)\n",
    "    \n",
    "    user_imp = Input(shape=(1,), name='user_input')\n",
    "    user_emb = Embedding(n_users, user_emb_sz, name='user_embedding')(user_imp)\n",
    "    user_emb = Flatten()(user_emb)\n",
    "    \n",
    "    tag_imp = Input(shape=(n_tags,), name='tag_input')\n",
    "    tag_emb = Dense(tag_emb_sz)(tag_imp)\n",
    "    \n",
    "#    movie_do = Dropout(0.1)(movie_emb)\n",
    "#    user_do = Dropout(0.1)(user_emb)\n",
    "    \n",
    "    concat = Concatenate(axis=1, name='concat')([movie_emb, user_emb, tag_emb])\n",
    "    \n",
    "    dense1 = Dense(floor(2/3*(movie_emb_sz + user_emb_sz)), activation='tanh')(concat)\n",
    "    d1_do = Dropout(dropout)(dense1)\n",
    "    \n",
    "    dense2 = Dense(floor(1/5*(movie_emb_sz + user_emb_sz)), activation='tanh')(d1_do)\n",
    "    d2_do = Dropout(dropout)(dense2)\n",
    "    \n",
    "    dense3 = Dense(1, activation='sigmoid')(d2_do)    \n",
    "    out = Lambda(lambda x: min_rateing + (max_rateing - min_rateing)*x)(dense3)\n",
    "\n",
    "    model = Model(inputs=[movie_imp, user_imp, tag_imp], outputs=[out])\n",
    "    model.compile(loss = 'mean_squared_error', optimizer = Adam(lr=0.001), metrics = ['mse'])\n",
    "    model.summary()\n",
    "    return model\n",
    "#end def\n",
    "\n",
    "es = EarlyStopping(patience=5, restore_best_weights=True)"
   ]
  },
  {
   "cell_type": "markdown",
   "metadata": {},
   "source": [
    "## Simple dot model\n",
    "Calculate the rating through the inner product between user embedding and movie embedding. "
   ]
  },
  {
   "cell_type": "code",
   "execution_count": 38,
   "metadata": {
    "scrolled": false
   },
   "outputs": [
    {
     "name": "stdout",
     "output_type": "stream",
     "text": [
      "__________________________________________________________________________________________________\n",
      "Layer (type)                    Output Shape         Param #     Connected to                     \n",
      "==================================================================================================\n",
      "movie_input (InputLayer)        (None, 1)            0                                            \n",
      "__________________________________________________________________________________________________\n",
      "user_input (InputLayer)         (None, 1)            0                                            \n",
      "__________________________________________________________________________________________________\n",
      "movie_embedding (Embedding)     (None, 1, 100)       974200      movie_input[0][0]                \n",
      "__________________________________________________________________________________________________\n",
      "user_embedding (Embedding)      (None, 1, 100)       61000       user_input[0][0]                 \n",
      "__________________________________________________________________________________________________\n",
      "dropout_27 (Dropout)            (None, 1, 100)       0           movie_embedding[0][0]            \n",
      "__________________________________________________________________________________________________\n",
      "dropout_28 (Dropout)            (None, 1, 100)       0           user_embedding[0][0]             \n",
      "__________________________________________________________________________________________________\n",
      "dot (Dot)                       (None, 1, 1)         0           dropout_27[0][0]                 \n",
      "                                                                 dropout_28[0][0]                 \n",
      "__________________________________________________________________________________________________\n",
      "flatten_20 (Flatten)            (None, 1)            0           dot[0][0]                        \n",
      "__________________________________________________________________________________________________\n",
      "activation (Activation)         (None, 1)            0           flatten_20[0][0]                 \n",
      "__________________________________________________________________________________________________\n",
      "lambda_11 (Lambda)              (None, 1)            0           activation[0][0]                 \n",
      "==================================================================================================\n",
      "Total params: 1,035,200\n",
      "Trainable params: 1,035,200\n",
      "Non-trainable params: 0\n",
      "__________________________________________________________________________________________________\n",
      "Train on 72601 samples, validate on 8067 samples\n",
      "Epoch 1/100\n",
      "72601/72601 [==============================] - 5s 65us/step - loss: 1.6437 - mean_squared_error: 1.6437 - val_loss: 1.5838 - val_mean_squared_error: 1.5838\n",
      "Epoch 2/100\n",
      "72601/72601 [==============================] - 4s 52us/step - loss: 1.2476 - mean_squared_error: 1.2476 - val_loss: 0.9892 - val_mean_squared_error: 0.9892\n",
      "Epoch 3/100\n",
      "72601/72601 [==============================] - 4s 56us/step - loss: 0.7646 - mean_squared_error: 0.7646 - val_loss: 0.8490 - val_mean_squared_error: 0.8490\n",
      "Epoch 4/100\n",
      "72601/72601 [==============================] - 4s 60us/step - loss: 0.5865 - mean_squared_error: 0.5865 - val_loss: 0.8078 - val_mean_squared_error: 0.8078\n",
      "Epoch 5/100\n",
      "72601/72601 [==============================] - 4s 58us/step - loss: 0.4644 - mean_squared_error: 0.4644 - val_loss: 0.7913 - val_mean_squared_error: 0.7913\n",
      "Epoch 6/100\n",
      "72601/72601 [==============================] - 4s 61us/step - loss: 0.3732 - mean_squared_error: 0.3732 - val_loss: 0.7886 - val_mean_squared_error: 0.7886\n",
      "Epoch 7/100\n",
      "72601/72601 [==============================] - 4s 60us/step - loss: 0.3061 - mean_squared_error: 0.3061 - val_loss: 0.7901 - val_mean_squared_error: 0.7901\n",
      "Epoch 8/100\n",
      "72601/72601 [==============================] - 5s 62us/step - loss: 0.2556 - mean_squared_error: 0.2556 - val_loss: 0.7948 - val_mean_squared_error: 0.7948\n",
      "Epoch 9/100\n",
      "72601/72601 [==============================] - 4s 61us/step - loss: 0.2153 - mean_squared_error: 0.2153 - val_loss: 0.7992 - val_mean_squared_error: 0.7992\n",
      "Epoch 10/100\n",
      "72601/72601 [==============================] - 5s 63us/step - loss: 0.1855 - mean_squared_error: 0.1855 - val_loss: 0.8058 - val_mean_squared_error: 0.8058\n",
      "Epoch 11/100\n",
      "72601/72601 [==============================] - 5s 66us/step - loss: 0.1611 - mean_squared_error: 0.1611 - val_loss: 0.8122 - val_mean_squared_error: 0.8122\n"
     ]
    }
   ],
   "source": [
    "model = gen_dot_model(common_emb_sz=100)\n",
    "history = model.fit([train_movie, train_user], [train_rating], validation_split=0.1, epochs=100, batch_size=256, callbacks = [es])"
   ]
  },
  {
   "cell_type": "code",
   "execution_count": 39,
   "metadata": {},
   "outputs": [
    {
     "name": "stdout",
     "output_type": "stream",
     "text": [
      "20168/20168 [==============================] - 0s 20us/step\n",
      "RMSE on test set: 0.890418960919065\n"
     ]
    }
   ],
   "source": [
    "mse = model.evaluate([test_movie, test_user], [test_rating])\n",
    "rmse = sqrt(mse[0])\n",
    "print(f'RMSE on test set: {rmse}')"
   ]
  },
  {
   "cell_type": "markdown",
   "metadata": {},
   "source": [
    "## Simple network model\n",
    "Instead of calculating the dot product between user and movie embedding, this model concatenates them into a vector which is then fed trhough a two layer network."
   ]
  },
  {
   "cell_type": "code",
   "execution_count": 49,
   "metadata": {},
   "outputs": [
    {
     "ename": "ValueError",
     "evalue": "setting an array element with a sequence.",
     "output_type": "error",
     "traceback": [
      "\u001b[0;31m---------------------------------------------------------------------------\u001b[0m",
      "\u001b[0;31mValueError\u001b[0m                                Traceback (most recent call last)",
      "\u001b[0;32m<ipython-input-49-0ab638141133>\u001b[0m in \u001b[0;36m<module>\u001b[0;34m\u001b[0m\n\u001b[0;32m----> 1\u001b[0;31m \u001b[0mmodel\u001b[0m \u001b[0;34m=\u001b[0m \u001b[0mgen_net_model\u001b[0m\u001b[0;34m(\u001b[0m\u001b[0mmovie_emb_sz\u001b[0m\u001b[0;34m=\u001b[0m\u001b[0;36m100\u001b[0m\u001b[0;34m,\u001b[0m \u001b[0muser_emb_sz\u001b[0m\u001b[0;34m=\u001b[0m\u001b[0;36m100\u001b[0m\u001b[0;34m,\u001b[0m \u001b[0mdropout\u001b[0m\u001b[0;34m=\u001b[0m\u001b[0;36m0.1\u001b[0m\u001b[0;34m)\u001b[0m\u001b[0;34m\u001b[0m\u001b[0;34m\u001b[0m\u001b[0m\n\u001b[0m\u001b[1;32m      2\u001b[0m \u001b[0mhistory\u001b[0m \u001b[0;34m=\u001b[0m \u001b[0mmodel\u001b[0m\u001b[0;34m.\u001b[0m\u001b[0mfit\u001b[0m\u001b[0;34m(\u001b[0m\u001b[0;34m[\u001b[0m\u001b[0mtrain_movie\u001b[0m\u001b[0;34m,\u001b[0m \u001b[0mtrain_user\u001b[0m\u001b[0;34m]\u001b[0m\u001b[0;34m,\u001b[0m \u001b[0;34m[\u001b[0m\u001b[0mtrain_rating\u001b[0m\u001b[0;34m]\u001b[0m\u001b[0;34m,\u001b[0m \u001b[0mvalidation_split\u001b[0m\u001b[0;34m=\u001b[0m\u001b[0;36m0.1\u001b[0m\u001b[0;34m,\u001b[0m \u001b[0mepochs\u001b[0m\u001b[0;34m=\u001b[0m\u001b[0;36m100\u001b[0m\u001b[0;34m,\u001b[0m \u001b[0mbatch_size\u001b[0m\u001b[0;34m=\u001b[0m\u001b[0;36m256\u001b[0m\u001b[0;34m,\u001b[0m \u001b[0mcallbacks\u001b[0m \u001b[0;34m=\u001b[0m \u001b[0;34m[\u001b[0m\u001b[0mes\u001b[0m\u001b[0;34m]\u001b[0m\u001b[0;34m)\u001b[0m\u001b[0;34m\u001b[0m\u001b[0;34m\u001b[0m\u001b[0m\n",
      "\u001b[0;32m<ipython-input-48-903fc0e888e3>\u001b[0m in \u001b[0;36mgen_net_model\u001b[0;34m(movie_emb_sz, user_emb_sz, dropout)\u001b[0m\n\u001b[1;32m     37\u001b[0m     \u001b[0md2_do\u001b[0m \u001b[0;34m=\u001b[0m \u001b[0mDropout\u001b[0m\u001b[0;34m(\u001b[0m\u001b[0mdropout\u001b[0m\u001b[0;34m)\u001b[0m\u001b[0;34m(\u001b[0m\u001b[0mdense2\u001b[0m\u001b[0;34m)\u001b[0m\u001b[0;34m\u001b[0m\u001b[0;34m\u001b[0m\u001b[0m\n\u001b[1;32m     38\u001b[0m \u001b[0;34m\u001b[0m\u001b[0m\n\u001b[0;32m---> 39\u001b[0;31m     \u001b[0mdense3\u001b[0m \u001b[0;34m=\u001b[0m \u001b[0mDense\u001b[0m\u001b[0;34m(\u001b[0m\u001b[0;36m1\u001b[0m\u001b[0;34m,\u001b[0m \u001b[0mactivation\u001b[0m\u001b[0;34m=\u001b[0m\u001b[0;34m'sigmoid'\u001b[0m\u001b[0;34m,\u001b[0m \u001b[0mkernel_regularizer\u001b[0m\u001b[0;34m=\u001b[0m\u001b[0ml2\u001b[0m\u001b[0;34m)\u001b[0m\u001b[0;34m(\u001b[0m\u001b[0md2_do\u001b[0m\u001b[0;34m)\u001b[0m\u001b[0;34m\u001b[0m\u001b[0;34m\u001b[0m\u001b[0m\n\u001b[0m\u001b[1;32m     40\u001b[0m     \u001b[0mout\u001b[0m \u001b[0;34m=\u001b[0m \u001b[0mLambda\u001b[0m\u001b[0;34m(\u001b[0m\u001b[0;32mlambda\u001b[0m \u001b[0mx\u001b[0m\u001b[0;34m:\u001b[0m \u001b[0mmin_rateing\u001b[0m \u001b[0;34m+\u001b[0m \u001b[0;34m(\u001b[0m\u001b[0mmax_rateing\u001b[0m \u001b[0;34m-\u001b[0m \u001b[0mmin_rateing\u001b[0m\u001b[0;34m)\u001b[0m\u001b[0;34m*\u001b[0m\u001b[0mx\u001b[0m\u001b[0;34m)\u001b[0m\u001b[0;34m(\u001b[0m\u001b[0mdense3\u001b[0m\u001b[0;34m)\u001b[0m\u001b[0;34m\u001b[0m\u001b[0;34m\u001b[0m\u001b[0m\n\u001b[1;32m     41\u001b[0m \u001b[0;34m\u001b[0m\u001b[0m\n",
      "\u001b[0;32m~/miniconda3/envs/fml/lib/python3.6/site-packages/keras/engine/base_layer.py\u001b[0m in \u001b[0;36m__call__\u001b[0;34m(self, inputs, **kwargs)\u001b[0m\n\u001b[1;32m    429\u001b[0m                                          \u001b[0;34m'You can build it manually via: '\u001b[0m\u001b[0;34m\u001b[0m\u001b[0;34m\u001b[0m\u001b[0m\n\u001b[1;32m    430\u001b[0m                                          '`layer.build(batch_input_shape)`')\n\u001b[0;32m--> 431\u001b[0;31m                 \u001b[0mself\u001b[0m\u001b[0;34m.\u001b[0m\u001b[0mbuild\u001b[0m\u001b[0;34m(\u001b[0m\u001b[0munpack_singleton\u001b[0m\u001b[0;34m(\u001b[0m\u001b[0minput_shapes\u001b[0m\u001b[0;34m)\u001b[0m\u001b[0;34m)\u001b[0m\u001b[0;34m\u001b[0m\u001b[0;34m\u001b[0m\u001b[0m\n\u001b[0m\u001b[1;32m    432\u001b[0m                 \u001b[0mself\u001b[0m\u001b[0;34m.\u001b[0m\u001b[0mbuilt\u001b[0m \u001b[0;34m=\u001b[0m \u001b[0;32mTrue\u001b[0m\u001b[0;34m\u001b[0m\u001b[0;34m\u001b[0m\u001b[0m\n\u001b[1;32m    433\u001b[0m \u001b[0;34m\u001b[0m\u001b[0m\n",
      "\u001b[0;32m~/miniconda3/envs/fml/lib/python3.6/site-packages/keras/layers/core.py\u001b[0m in \u001b[0;36mbuild\u001b[0;34m(self, input_shape)\u001b[0m\n\u001b[1;32m    864\u001b[0m                                       \u001b[0mname\u001b[0m\u001b[0;34m=\u001b[0m\u001b[0;34m'kernel'\u001b[0m\u001b[0;34m,\u001b[0m\u001b[0;34m\u001b[0m\u001b[0;34m\u001b[0m\u001b[0m\n\u001b[1;32m    865\u001b[0m                                       \u001b[0mregularizer\u001b[0m\u001b[0;34m=\u001b[0m\u001b[0mself\u001b[0m\u001b[0;34m.\u001b[0m\u001b[0mkernel_regularizer\u001b[0m\u001b[0;34m,\u001b[0m\u001b[0;34m\u001b[0m\u001b[0;34m\u001b[0m\u001b[0m\n\u001b[0;32m--> 866\u001b[0;31m                                       constraint=self.kernel_constraint)\n\u001b[0m\u001b[1;32m    867\u001b[0m         \u001b[0;32mif\u001b[0m \u001b[0mself\u001b[0m\u001b[0;34m.\u001b[0m\u001b[0muse_bias\u001b[0m\u001b[0;34m:\u001b[0m\u001b[0;34m\u001b[0m\u001b[0;34m\u001b[0m\u001b[0m\n\u001b[1;32m    868\u001b[0m             self.bias = self.add_weight(shape=(self.units,),\n",
      "\u001b[0;32m~/miniconda3/envs/fml/lib/python3.6/site-packages/keras/legacy/interfaces.py\u001b[0m in \u001b[0;36mwrapper\u001b[0;34m(*args, **kwargs)\u001b[0m\n\u001b[1;32m     89\u001b[0m                 warnings.warn('Update your `' + object_name + '` call to the ' +\n\u001b[1;32m     90\u001b[0m                               'Keras 2 API: ' + signature, stacklevel=2)\n\u001b[0;32m---> 91\u001b[0;31m             \u001b[0;32mreturn\u001b[0m \u001b[0mfunc\u001b[0m\u001b[0;34m(\u001b[0m\u001b[0;34m*\u001b[0m\u001b[0margs\u001b[0m\u001b[0;34m,\u001b[0m \u001b[0;34m**\u001b[0m\u001b[0mkwargs\u001b[0m\u001b[0;34m)\u001b[0m\u001b[0;34m\u001b[0m\u001b[0;34m\u001b[0m\u001b[0m\n\u001b[0m\u001b[1;32m     92\u001b[0m         \u001b[0mwrapper\u001b[0m\u001b[0;34m.\u001b[0m\u001b[0m_original_function\u001b[0m \u001b[0;34m=\u001b[0m \u001b[0mfunc\u001b[0m\u001b[0;34m\u001b[0m\u001b[0;34m\u001b[0m\u001b[0m\n\u001b[1;32m     93\u001b[0m         \u001b[0;32mreturn\u001b[0m \u001b[0mwrapper\u001b[0m\u001b[0;34m\u001b[0m\u001b[0;34m\u001b[0m\u001b[0m\n",
      "\u001b[0;32m~/miniconda3/envs/fml/lib/python3.6/site-packages/keras/engine/base_layer.py\u001b[0m in \u001b[0;36madd_weight\u001b[0;34m(self, name, shape, dtype, initializer, regularizer, trainable, constraint)\u001b[0m\n\u001b[1;32m    253\u001b[0m         \u001b[0;32mif\u001b[0m \u001b[0mregularizer\u001b[0m \u001b[0;32mis\u001b[0m \u001b[0;32mnot\u001b[0m \u001b[0;32mNone\u001b[0m\u001b[0;34m:\u001b[0m\u001b[0;34m\u001b[0m\u001b[0;34m\u001b[0m\u001b[0m\n\u001b[1;32m    254\u001b[0m             \u001b[0;32mwith\u001b[0m \u001b[0mK\u001b[0m\u001b[0;34m.\u001b[0m\u001b[0mname_scope\u001b[0m\u001b[0;34m(\u001b[0m\u001b[0;34m'weight_regularizer'\u001b[0m\u001b[0;34m)\u001b[0m\u001b[0;34m:\u001b[0m\u001b[0;34m\u001b[0m\u001b[0;34m\u001b[0m\u001b[0m\n\u001b[0;32m--> 255\u001b[0;31m                 \u001b[0mself\u001b[0m\u001b[0;34m.\u001b[0m\u001b[0madd_loss\u001b[0m\u001b[0;34m(\u001b[0m\u001b[0mregularizer\u001b[0m\u001b[0;34m(\u001b[0m\u001b[0mweight\u001b[0m\u001b[0;34m)\u001b[0m\u001b[0;34m)\u001b[0m\u001b[0;34m\u001b[0m\u001b[0;34m\u001b[0m\u001b[0m\n\u001b[0m\u001b[1;32m    256\u001b[0m         \u001b[0;32mif\u001b[0m \u001b[0mtrainable\u001b[0m\u001b[0;34m:\u001b[0m\u001b[0;34m\u001b[0m\u001b[0;34m\u001b[0m\u001b[0m\n\u001b[1;32m    257\u001b[0m             \u001b[0mself\u001b[0m\u001b[0;34m.\u001b[0m\u001b[0m_trainable_weights\u001b[0m\u001b[0;34m.\u001b[0m\u001b[0mappend\u001b[0m\u001b[0;34m(\u001b[0m\u001b[0mweight\u001b[0m\u001b[0;34m)\u001b[0m\u001b[0;34m\u001b[0m\u001b[0;34m\u001b[0m\u001b[0m\n",
      "\u001b[0;32m~/miniconda3/envs/fml/lib/python3.6/site-packages/keras/regularizers.py\u001b[0m in \u001b[0;36ml2\u001b[0;34m(l)\u001b[0m\n\u001b[1;32m     56\u001b[0m \u001b[0;34m\u001b[0m\u001b[0m\n\u001b[1;32m     57\u001b[0m \u001b[0;32mdef\u001b[0m \u001b[0ml2\u001b[0m\u001b[0;34m(\u001b[0m\u001b[0ml\u001b[0m\u001b[0;34m=\u001b[0m\u001b[0;36m0.01\u001b[0m\u001b[0;34m)\u001b[0m\u001b[0;34m:\u001b[0m\u001b[0;34m\u001b[0m\u001b[0;34m\u001b[0m\u001b[0m\n\u001b[0;32m---> 58\u001b[0;31m     \u001b[0;32mreturn\u001b[0m \u001b[0mL1L2\u001b[0m\u001b[0;34m(\u001b[0m\u001b[0ml2\u001b[0m\u001b[0;34m=\u001b[0m\u001b[0ml\u001b[0m\u001b[0;34m)\u001b[0m\u001b[0;34m\u001b[0m\u001b[0;34m\u001b[0m\u001b[0m\n\u001b[0m\u001b[1;32m     59\u001b[0m \u001b[0;34m\u001b[0m\u001b[0m\n\u001b[1;32m     60\u001b[0m \u001b[0;34m\u001b[0m\u001b[0m\n",
      "\u001b[0;32m~/miniconda3/envs/fml/lib/python3.6/site-packages/keras/regularizers.py\u001b[0m in \u001b[0;36m__init__\u001b[0;34m(self, l1, l2)\u001b[0m\n\u001b[1;32m     33\u001b[0m     \u001b[0;32mdef\u001b[0m \u001b[0m__init__\u001b[0m\u001b[0;34m(\u001b[0m\u001b[0mself\u001b[0m\u001b[0;34m,\u001b[0m \u001b[0ml1\u001b[0m\u001b[0;34m=\u001b[0m\u001b[0;36m0.\u001b[0m\u001b[0;34m,\u001b[0m \u001b[0ml2\u001b[0m\u001b[0;34m=\u001b[0m\u001b[0;36m0.\u001b[0m\u001b[0;34m)\u001b[0m\u001b[0;34m:\u001b[0m\u001b[0;34m\u001b[0m\u001b[0;34m\u001b[0m\u001b[0m\n\u001b[1;32m     34\u001b[0m         \u001b[0mself\u001b[0m\u001b[0;34m.\u001b[0m\u001b[0ml1\u001b[0m \u001b[0;34m=\u001b[0m \u001b[0mK\u001b[0m\u001b[0;34m.\u001b[0m\u001b[0mcast_to_floatx\u001b[0m\u001b[0;34m(\u001b[0m\u001b[0ml1\u001b[0m\u001b[0;34m)\u001b[0m\u001b[0;34m\u001b[0m\u001b[0;34m\u001b[0m\u001b[0m\n\u001b[0;32m---> 35\u001b[0;31m         \u001b[0mself\u001b[0m\u001b[0;34m.\u001b[0m\u001b[0ml2\u001b[0m \u001b[0;34m=\u001b[0m \u001b[0mK\u001b[0m\u001b[0;34m.\u001b[0m\u001b[0mcast_to_floatx\u001b[0m\u001b[0;34m(\u001b[0m\u001b[0ml2\u001b[0m\u001b[0;34m)\u001b[0m\u001b[0;34m\u001b[0m\u001b[0;34m\u001b[0m\u001b[0m\n\u001b[0m\u001b[1;32m     36\u001b[0m \u001b[0;34m\u001b[0m\u001b[0m\n\u001b[1;32m     37\u001b[0m     \u001b[0;32mdef\u001b[0m \u001b[0m__call__\u001b[0m\u001b[0;34m(\u001b[0m\u001b[0mself\u001b[0m\u001b[0;34m,\u001b[0m \u001b[0mx\u001b[0m\u001b[0;34m)\u001b[0m\u001b[0;34m:\u001b[0m\u001b[0;34m\u001b[0m\u001b[0;34m\u001b[0m\u001b[0m\n",
      "\u001b[0;32m~/miniconda3/envs/fml/lib/python3.6/site-packages/keras/backend/common.py\u001b[0m in \u001b[0;36mcast_to_floatx\u001b[0;34m(x)\u001b[0m\n\u001b[1;32m    108\u001b[0m     \u001b[0;31m`\u001b[0m\u001b[0;31m`\u001b[0m\u001b[0;31m`\u001b[0m\u001b[0;34m\u001b[0m\u001b[0;34m\u001b[0m\u001b[0m\n\u001b[1;32m    109\u001b[0m     \"\"\"\n\u001b[0;32m--> 110\u001b[0;31m     \u001b[0;32mreturn\u001b[0m \u001b[0mnp\u001b[0m\u001b[0;34m.\u001b[0m\u001b[0masarray\u001b[0m\u001b[0;34m(\u001b[0m\u001b[0mx\u001b[0m\u001b[0;34m,\u001b[0m \u001b[0mdtype\u001b[0m\u001b[0;34m=\u001b[0m\u001b[0m_FLOATX\u001b[0m\u001b[0;34m)\u001b[0m\u001b[0;34m\u001b[0m\u001b[0;34m\u001b[0m\u001b[0m\n\u001b[0m\u001b[1;32m    111\u001b[0m \u001b[0;34m\u001b[0m\u001b[0m\n\u001b[1;32m    112\u001b[0m \u001b[0;34m\u001b[0m\u001b[0m\n",
      "\u001b[0;32m~/miniconda3/envs/fml/lib/python3.6/site-packages/numpy/core/numeric.py\u001b[0m in \u001b[0;36masarray\u001b[0;34m(a, dtype, order)\u001b[0m\n\u001b[1;32m    499\u001b[0m \u001b[0;34m\u001b[0m\u001b[0m\n\u001b[1;32m    500\u001b[0m     \"\"\"\n\u001b[0;32m--> 501\u001b[0;31m     \u001b[0;32mreturn\u001b[0m \u001b[0marray\u001b[0m\u001b[0;34m(\u001b[0m\u001b[0ma\u001b[0m\u001b[0;34m,\u001b[0m \u001b[0mdtype\u001b[0m\u001b[0;34m,\u001b[0m \u001b[0mcopy\u001b[0m\u001b[0;34m=\u001b[0m\u001b[0;32mFalse\u001b[0m\u001b[0;34m,\u001b[0m \u001b[0morder\u001b[0m\u001b[0;34m=\u001b[0m\u001b[0morder\u001b[0m\u001b[0;34m)\u001b[0m\u001b[0;34m\u001b[0m\u001b[0;34m\u001b[0m\u001b[0m\n\u001b[0m\u001b[1;32m    502\u001b[0m \u001b[0;34m\u001b[0m\u001b[0m\n\u001b[1;32m    503\u001b[0m \u001b[0;34m\u001b[0m\u001b[0m\n",
      "\u001b[0;31mValueError\u001b[0m: setting an array element with a sequence."
     ]
    }
   ],
   "source": [
    "model = gen_net_model(movie_emb_sz=100, user_emb_sz=100, dropout=0.1)\n",
    "history = model.fit([train_movie, train_user], [train_rating], validation_split=0.1, epochs=100, batch_size=256, callbacks = [es])"
   ]
  },
  {
   "cell_type": "code",
   "execution_count": 41,
   "metadata": {},
   "outputs": [
    {
     "name": "stdout",
     "output_type": "stream",
     "text": [
      "20168/20168 [==============================] - 1s 30us/step\n",
      "RMSE on test set: 0.8702055489711874\n"
     ]
    }
   ],
   "source": [
    "mse = model.evaluate([test_movie, test_user], [test_rating])\n",
    "rmse = sqrt(mse[0])\n",
    "print(f'RMSE on test set: {rmse}')"
   ]
  },
  {
   "cell_type": "markdown",
   "metadata": {},
   "source": [
    "## Tag net model\n",
    "Here we also take the tags of the movie into account when creating the input to the network. "
   ]
  },
  {
   "cell_type": "code",
   "execution_count": 42,
   "metadata": {},
   "outputs": [
    {
     "name": "stdout",
     "output_type": "stream",
     "text": [
      "__________________________________________________________________________________________________\n",
      "Layer (type)                    Output Shape         Param #     Connected to                     \n",
      "==================================================================================================\n",
      "movie_input (InputLayer)        (None, 1)            0                                            \n",
      "__________________________________________________________________________________________________\n",
      "user_input (InputLayer)         (None, 1)            0                                            \n",
      "__________________________________________________________________________________________________\n",
      "movie_embedding (Embedding)     (None, 1, 100)       974200      movie_input[0][0]                \n",
      "__________________________________________________________________________________________________\n",
      "user_embedding (Embedding)      (None, 1, 100)       61000       user_input[0][0]                 \n",
      "__________________________________________________________________________________________________\n",
      "tag_input (InputLayer)          (None, 20)           0                                            \n",
      "__________________________________________________________________________________________________\n",
      "flatten_23 (Flatten)            (None, 100)          0           movie_embedding[0][0]            \n",
      "__________________________________________________________________________________________________\n",
      "flatten_24 (Flatten)            (None, 100)          0           user_embedding[0][0]             \n",
      "__________________________________________________________________________________________________\n",
      "dense_29 (Dense)                (None, 100)          2100        tag_input[0][0]                  \n",
      "__________________________________________________________________________________________________\n",
      "concat (Concatenate)            (None, 300)          0           flatten_23[0][0]                 \n",
      "                                                                 flatten_24[0][0]                 \n",
      "                                                                 dense_29[0][0]                   \n",
      "__________________________________________________________________________________________________\n",
      "dense_30 (Dense)                (None, 133)          40033       concat[0][0]                     \n",
      "__________________________________________________________________________________________________\n",
      "dropout_31 (Dropout)            (None, 133)          0           dense_30[0][0]                   \n",
      "__________________________________________________________________________________________________\n",
      "dense_31 (Dense)                (None, 40)           5360        dropout_31[0][0]                 \n",
      "__________________________________________________________________________________________________\n",
      "dropout_32 (Dropout)            (None, 40)           0           dense_31[0][0]                   \n",
      "__________________________________________________________________________________________________\n",
      "dense_32 (Dense)                (None, 1)            41          dropout_32[0][0]                 \n",
      "__________________________________________________________________________________________________\n",
      "lambda_13 (Lambda)              (None, 1)            0           dense_32[0][0]                   \n",
      "==================================================================================================\n",
      "Total params: 1,082,734\n",
      "Trainable params: 1,082,734\n",
      "Non-trainable params: 0\n",
      "__________________________________________________________________________________________________\n",
      "Train on 72601 samples, validate on 8067 samples\n",
      "Epoch 1/100\n",
      "72601/72601 [==============================] - 7s 93us/step - loss: 0.8475 - mean_squared_error: 0.8475 - val_loss: 0.7604 - val_mean_squared_error: 0.7604\n",
      "Epoch 2/100\n",
      "72601/72601 [==============================] - 5s 71us/step - loss: 0.7152 - mean_squared_error: 0.7152 - val_loss: 0.7581 - val_mean_squared_error: 0.7581\n",
      "Epoch 3/100\n",
      "72601/72601 [==============================] - 5s 73us/step - loss: 0.6834 - mean_squared_error: 0.6834 - val_loss: 0.7627 - val_mean_squared_error: 0.7627\n",
      "Epoch 4/100\n",
      "72601/72601 [==============================] - 6s 77us/step - loss: 0.6685 - mean_squared_error: 0.6685 - val_loss: 0.7716 - val_mean_squared_error: 0.7716\n",
      "Epoch 5/100\n",
      "72601/72601 [==============================] - 6s 78us/step - loss: 0.6599 - mean_squared_error: 0.6599 - val_loss: 0.7552 - val_mean_squared_error: 0.7552\n",
      "Epoch 6/100\n",
      "72601/72601 [==============================] - 6s 80us/step - loss: 0.6531 - mean_squared_error: 0.6531 - val_loss: 0.7559 - val_mean_squared_error: 0.7559\n",
      "Epoch 7/100\n",
      "72601/72601 [==============================] - 6s 81us/step - loss: 0.6483 - mean_squared_error: 0.6483 - val_loss: 0.7769 - val_mean_squared_error: 0.7769\n",
      "Epoch 8/100\n",
      "72601/72601 [==============================] - 6s 80us/step - loss: 0.6456 - mean_squared_error: 0.6456 - val_loss: 0.7650 - val_mean_squared_error: 0.7650\n",
      "Epoch 9/100\n",
      "72601/72601 [==============================] - 6s 81us/step - loss: 0.6432 - mean_squared_error: 0.6432 - val_loss: 0.7785 - val_mean_squared_error: 0.7785\n",
      "Epoch 10/100\n",
      "72601/72601 [==============================] - 6s 85us/step - loss: 0.6396 - mean_squared_error: 0.6396 - val_loss: 0.7664 - val_mean_squared_error: 0.7664\n"
     ]
    }
   ],
   "source": [
    "model = gen_net_model_with_tags(movie_emb_sz=100, user_emb_sz=100, tag_emb_sz=100)\n",
    "history = model.fit([train_movie, train_user, train_tags], [train_rating], validation_split=0.1, epochs=100, batch_size=256, callbacks = [es])"
   ]
  },
  {
   "cell_type": "code",
   "execution_count": 34,
   "metadata": {},
   "outputs": [
    {
     "name": "stdout",
     "output_type": "stream",
     "text": [
      "20168/20168 [==============================] - 0s 17us/step\n",
      "RMSE on test set: 0.8713615891180057\n"
     ]
    }
   ],
   "source": [
    "mse = model.evaluate([test_movie, test_user, test_tags], [test_rating])\n",
    "rmse = sqrt(mse[0])\n",
    "print(f'RMSE on test set: {rmse}')"
   ]
  },
  {
   "cell_type": "code",
   "execution_count": null,
   "metadata": {},
   "outputs": [],
   "source": []
  }
 ],
 "metadata": {
  "kernelspec": {
   "display_name": "Python 3",
   "language": "python",
   "name": "python3"
  },
  "language_info": {
   "codemirror_mode": {
    "name": "ipython",
    "version": 3
   },
   "file_extension": ".py",
   "mimetype": "text/x-python",
   "name": "python",
   "nbconvert_exporter": "python",
   "pygments_lexer": "ipython3",
   "version": "3.6.7"
  }
 },
 "nbformat": 4,
 "nbformat_minor": 2
}
